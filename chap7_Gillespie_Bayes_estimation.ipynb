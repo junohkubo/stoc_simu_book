{
  "cells": [
    {
      "cell_type": "code",
      "execution_count": 1,
      "metadata": {
        "colab": {
          "base_uri": "https://localhost:8080/",
          "height": 501
        },
        "id": "JOmLiP6CBTA7",
        "outputId": "5622a539-d115-4aae-ce6d-6e24ca7d4386"
      },
      "outputs": [
        {
          "name": "stdout",
          "output_type": "stream",
          "text": [
            "time: 0, estimate: 1.0\n",
            "time: 100, estimate: 0.553738579780494\n",
            "time: 200, estimate: 0.5152243553043351\n",
            "time: 400, estimate: 0.49222995038901146\n"
          ]
        },
        {
          "data": {
            "image/png": "[encoded data removed]",
            "text/plain": [
              "<Figure size 640x480 with 1 Axes>"
            ]
          },
          "metadata": {},
          "output_type": "display_data"
        }
      ],
      "source": [
        "'''\n",
        "  第7章: Gillespieアルゴリズムとベイズ推定\n",
        "  - Lotka-Volterra系\n",
        "  - 図7.7のようなものを描画できる\n",
        "'''\n",
        "import numpy as np\n",
        "import matplotlib.pyplot as plt\n",
        "import scipy\n",
        "\n",
        "# パラメータの設定\n",
        "R = 3\n",
        "c = [0.5, 0.1, 0.4]\n",
        "# 状態に依存する関数(propensity function)の設定（学習用データ生成用）\n",
        "gamma_r = [lambda n: c[0]*n[0],\n",
        "             lambda n: c[1]*n[0]*n[1],\n",
        "             lambda n: c[2]*n[1]]\n",
        "# 各イベントでの状態遷移の設定\n",
        "v_e = np.array([[+1, 0],\n",
        "                 [-1,+1],\n",
        "                 [ 0,-1]])\n",
        "\n",
        "# ハザード関数の設定（推定用）\n",
        "hazards = [lambda n: n[0],\n",
        "          lambda n: n[0]*n[1],\n",
        "          lambda n: n[1]]\n",
        "\n",
        "# 乱数の種の設定\n",
        "rng = np.random.default_rng(641736)\n",
        "\n",
        "# -------------------------------- 学習データ生成パート\n",
        "# シミュレーションの設定\n",
        "sampling_times = [0, 100, 200, 400]\n",
        "n_ini_low = 3   # 初期化の際の最小個体数\n",
        "n_ini_high = 10 # 初期化の際の最大個体数\n",
        "\n",
        "# 定数 gamma0 を計算する関数\n",
        "def calc_gamma0(n_tilde):\n",
        "    gamma0 = 0.0\n",
        "    for gamma in gamma_r:\n",
        "        gamma0 = gamma0 + gamma(n_tilde)\n",
        "    return gamma0\n",
        "\n",
        "# 結果を格納するための変数\n",
        "chis = np.zeros(R)\n",
        "integral_gs = np.zeros(R)\n",
        "result_chis = []\n",
        "result_integral_gs = []\n",
        "\n",
        "# サンプリング\n",
        "t = 0.0\n",
        "n_tilde = rng.integers(low=n_ini_low,high=n_ini_high,size=2)\n",
        "sampling_count = 1\n",
        "pval = np.zeros(R)\n",
        "gamma0 = calc_gamma0(n_tilde)\n",
        "result_chis.append(chis.copy())\n",
        "result_integral_gs.append(integral_gs.copy())\n",
        "while True:\n",
        "    tau = rng.exponential(1.0/gamma0)\n",
        "    # サンプリングの時刻での処理\n",
        "    if t+tau >= sampling_times[sampling_count]:\n",
        "        dt = sampling_times[sampling_count]-t\n",
        "        tmp_integral_gs = integral_gs.copy()\n",
        "        for r, hazard in enumerate(hazards):\n",
        "            tmp_integral_gs[r] = integral_gs[r] + hazard(n_tilde)*dt\n",
        "        # 保存\n",
        "        result_chis.append(chis.copy())\n",
        "        result_integral_gs.append(tmp_integral_gs.copy())\n",
        "        sampling_count = sampling_count + 1\n",
        "        if sampling_count == (len(sampling_times)):\n",
        "            break\n",
        "    t = t + tau\n",
        "    for r, gamma in enumerate(gamma_r):\n",
        "        pval[r] = gamma(n_tilde)/gamma0\n",
        "    e = rng.choice(R, 1, p=pval)[0]\n",
        "    for r, hazard in enumerate(hazards):\n",
        "        integral_gs[r] = integral_gs[r] + hazard(n_tilde)*tau\n",
        "    chis[e] = chis[e]+1\n",
        "    n_tilde = n_tilde + v_e[e]\n",
        "    # 絶滅したかどうかの確認: もし絶滅していたら状態を初期化し直す\n",
        "    if np.all(n_tilde == 0):\n",
        "        n_tilde = rng.integers(low=n_ini_low,high=n_ini_high,size=2)\n",
        "    # 種2がなくなると種1が増え続けるだけなので状態を初期化し直す\n",
        "    if np.all(n_tilde[1] == 0):\n",
        "        n_tilde = rng.integers(low=n_ini_low,high=n_ini_high,size=2)\n",
        "    gamma0 = calc_gamma0(n_tilde)\n",
        "result_chis = np.array(result_chis)\n",
        "result_integral_gs = np.array(result_integral_gs)\n",
        "\n",
        "# -------------------------------- 推定パート\n",
        "alphas = [1.0, 1.0, 1.0]\n",
        "betas = [1.0, 1.0, 1.0]\n",
        "result_alphas = []\n",
        "result_betas = []\n",
        "for i, chi in enumerate(result_chis):\n",
        "    tmp = alphas + chi\n",
        "    result_alphas.append(tmp.copy())\n",
        "for i, integral_gs in enumerate(result_integral_gs):\n",
        "    tmp = betas + integral_gs\n",
        "    result_betas.append(tmp.copy())\n",
        "\n",
        "# 結果のプロット\n",
        "x = np.linspace(0.0, 1.0, 100)\n",
        "plot_r = 0 # (plot_r + 1)番目のイベントの速度定数をプロット\n",
        "transp = np.linspace(0.2, 1.0, len(sampling_times))\n",
        "for i, (t, alphas, betas) in enumerate(zip(sampling_times, result_alphas, result_betas)):\n",
        "    comp = alphas[plot_r]/betas[plot_r]\n",
        "    print(\"time: {0}, estimate: {1}\".format(t, comp))\n",
        "    plt.plot(x, scipy.stats.gamma.pdf(x, a=alphas[plot_r], scale=1.0/betas[plot_r]), 'r-',\n",
        "             lw=1, alpha=transp[i], label='beta pdf')\n",
        "plt.show()\n"
      ]
    }
  ],
  "metadata": {
    "colab": {
      "provenance": []
    },
    "kernelspec": {
      "display_name": "Python 3",
      "name": "python3"
    },
    "language_info": {
      "codemirror_mode": {
        "name": "ipython",
        "version": 3
      },
      "file_extension": ".py",
      "mimetype": "text/x-python",
      "name": "python",
      "nbconvert_exporter": "python",
      "pygments_lexer": "ipython3",
      "version": "3.11.2"
    }
  },
  "nbformat": 4,
  "nbformat_minor": 0
}
